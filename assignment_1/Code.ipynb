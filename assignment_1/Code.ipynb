{
 "cells": [
  {
   "cell_type": "markdown",
   "metadata": {},
   "source": [
    "# Plot data"
   ]
  },
  {
   "cell_type": "code",
   "execution_count": null,
   "metadata": {},
   "outputs": [],
   "source": [
    "# Load data:\n",
    "import pandas as pd\n",
    "import scipy.stats as stats\n",
    "import numpy as np\n",
    "import matplotlib.pyplot as plt\n",
    "from numpy.linalg import inv\n",
    "data_train=pd.read_excel(\"DST_BIL54_train.xlsx\",header=None)\n",
    "list_of_drive = data_train.iloc[1].values\n"
   ]
  },
  {
   "cell_type": "code",
   "execution_count": null,
   "metadata": {},
   "outputs": [],
   "source": [
    "# Create new column with time variable:\n",
    "list_of_drive = list_of_drive[1:]\n",
    "\n",
    "time = np.array([2018+1/12 * i for i in range(0, len(list_of_drive))])"
   ]
  },
  {
   "cell_type": "code",
   "execution_count": null,
   "metadata": {},
   "outputs": [],
   "source": [
    "\n",
    "plt.plot(time,list_of_drive)\n",
    "plt.title('Drivmidler as a function of time')\n",
    "plt.xlabel('Time (Years from 2018-01)')\n",
    "plt.ylabel('Drivmidler i alt')\n",
    "plt.savefig(\"plot_data.png\")"
   ]
  },
  {
   "cell_type": "markdown",
   "metadata": {},
   "source": [
    "Notes\n",
    "- Seems to be globally increasing somewhat linearly, stagnates towards the end and seems to be a slight seasonality. "
   ]
  },
  {
   "cell_type": "markdown",
   "metadata": {},
   "source": [
    "# OLS"
   ]
  },
  {
   "cell_type": "code",
   "execution_count": null,
   "metadata": {},
   "outputs": [],
   "source": [
    "# calculate the parameters of an OLS regression:\n",
    "\n",
    "# stack  with a columnn of ones:\n",
    "data = np.array(list_of_drive)\n",
    "time_inter = np.vstack((np.ones(len(time)), time.T)).T\n",
    "\n",
    "# Calculate the parameters:\n",
    "beta = np.linalg.inv(time_inter.T @ time_inter) @ time_inter.T @ data"
   ]
  },
  {
   "cell_type": "code",
   "execution_count": null,
   "metadata": {},
   "outputs": [],
   "source": [
    "beta"
   ]
  },
  {
   "cell_type": "code",
   "execution_count": null,
   "metadata": {},
   "outputs": [],
   "source": [
    "# estimate the errors of the parameters:\n",
    "\n",
    "# calculate the residuals:\n",
    "residuals = data - time_inter @ beta\n",
    "\n",
    "# calculate the variance of the residuals:\n",
    "variance = residuals.T @ residuals / (len(time) - 2)\n",
    "\n",
    "# calculate the variance of the parameters:\n",
    "var_beta = variance * np.linalg.inv(time_inter.T @ time_inter)\n",
    "\n",
    "# calculate the standard deviation of the parameters:\n",
    "std_beta = np.sqrt(np.diag(var_beta))\n",
    "\n",
    "std_beta"
   ]
  },
  {
   "cell_type": "code",
   "execution_count": null,
   "metadata": {},
   "outputs": [],
   "source": [
    "# forcastt of the drivmidler \n",
    "x_forcast = np.array([np.max(time)+1/12*i for i in range (1, 13)])\n",
    "x_forcast = np.vstack((np.ones(len(x_forcast)), x_forcast.T)).T\n",
    "y_forcast = x_forcast @ beta\n",
    "\n",
    "# calculate the confidence interval:\n",
    "t = stats.t.ppf(0.90, len(time) - 2)\n",
    "\n",
    "# calculate the vmatrix based on variance and the x_forcast matrix:\n",
    "vmatrix = variance * (1+x_forcast @ np.linalg.inv(time_inter.T @ time_inter) @ x_forcast.T)\n",
    "y_forcast_upper = y_forcast + t * np.sqrt(np.diag(vmatrix))\n",
    "y_forcast_lower = y_forcast - t * np.sqrt(np.diag(vmatrix))\n"
   ]
  },
  {
   "cell_type": "code",
   "execution_count": null,
   "metadata": {},
   "outputs": [],
   "source": [
    "x_forcast"
   ]
  },
  {
   "cell_type": "code",
   "execution_count": null,
   "metadata": {},
   "outputs": [],
   "source": [
    "y_forcast"
   ]
  },
  {
   "cell_type": "code",
   "execution_count": null,
   "metadata": {},
   "outputs": [],
   "source": [
    "y_forcast_lower"
   ]
  },
  {
   "cell_type": "code",
   "execution_count": null,
   "metadata": {},
   "outputs": [],
   "source": [
    "y_forcast_upper"
   ]
  },
  {
   "cell_type": "code",
   "execution_count": null,
   "metadata": {},
   "outputs": [],
   "source": [
    "# load the test data:\n",
    "\n",
    "data_test=pd.read_excel(\"DST_BIL54_test.xlsx\",header=None)\n",
    "data_test = data_test.iloc[1].values\n",
    "data_test = data_test[1:]"
   ]
  },
  {
   "cell_type": "code",
   "execution_count": null,
   "metadata": {},
   "outputs": [],
   "source": [
    "# plot the forecast data with the old data:\n",
    "x_values = x_forcast[:,1]\n",
    "plt.plot(time,list_of_drive)\n",
    "plt.plot(x_values,data_test)\n",
    "plt.plot(x_values,y_forcast)\n",
    "plt.fill_between(x_values,list(y_forcast_lower),list(y_forcast_upper), color='gray', alpha=0.5)\n",
    "plt.legend([\"Train data\",'Test data','Forecast','Confidence interval 90%'])\n",
    "plt.xlabel('Time (Years from 2018-01)')\n",
    "plt.ylabel('Drivmidler i alt')\n",
    "plt.title('Drivmidler as a function of time')\n",
    "plt.savefig('forecastOLS.png')\n"
   ]
  },
  {
   "cell_type": "code",
   "execution_count": null,
   "metadata": {},
   "outputs": [],
   "source": [
    "# investigate residuals:\n",
    "plt.plot(time,residuals)\n",
    "plt.title('Residuals as a function of time')\n",
    "plt.xlabel('Time (Years from 2018-01)')\n",
    "plt.ylabel('Residuals compared to a linear model')\n",
    "plt.savefig('residuals.png')"
   ]
  },
  {
   "cell_type": "markdown",
   "metadata": {},
   "source": [
    "# WLS"
   ]
  },
  {
   "cell_type": "markdown",
   "metadata": {},
   "source": [
    "We will now use WLS to make the linear model in Eq. (1) as a local trend model, i.e., the observation\n",
    "at the latest timepoint (xN = x59 = 2022.833) has weight λ0 = 1, the observation at the second\n",
    "latest timepoint (xN −1 = x58 = 2022.750) has weight λ1 , the third latest observation (xN −2 = x57 =\n",
    "2022.667) has weight λ2 etc.\n",
    "We start by setting λ = 0.9."
   ]
  },
  {
   "cell_type": "code",
   "execution_count": null,
   "metadata": {},
   "outputs": [],
   "source": [
    "# Creating the Sigma matrix for WLS\n",
    "lamb = 0.9\n",
    "Sigma = np.zeros((len(time),len(time)))\n",
    "for i in range(len(time)):\n",
    "    Sigma[i,i] = 1/(lamb**(len(time)-i))\n"
   ]
  },
  {
   "cell_type": "code",
   "execution_count": null,
   "metadata": {},
   "outputs": [],
   "source": [
    "# Plot diagonals as a function of time: \n",
    "\n",
    "plt.plot(time,1/np.diag(Sigma))\n",
    "plt.xlabel('Time (Years from 2018-01)')\n",
    "plt.ylabel('lambda value')\n",
    "plt.title(\"lambdas as a function of time\")\n",
    "plt.savefig(\"WLSLambdasVsTime.png\")"
   ]
  },
  {
   "cell_type": "code",
   "execution_count": null,
   "metadata": {},
   "outputs": [],
   "source": [
    "np.sum(1/np.diag(Sigma))"
   ]
  },
  {
   "cell_type": "code",
   "execution_count": null,
   "metadata": {},
   "outputs": [],
   "source": [
    "#calculate the parameters: \n",
    "\n",
    "beta_WLS = np.linalg.inv(time_inter.T @ np.linalg.inv(Sigma) @ time_inter) @ time_inter.T @ np.linalg.inv(Sigma) @ data\n",
    "beta_WLS"
   ]
  },
  {
   "cell_type": "code",
   "execution_count": null,
   "metadata": {},
   "outputs": [],
   "source": [
    "# make prediction: \n",
    "y_pred_WLS_09 = x_forcast @ beta_WLS"
   ]
  },
  {
   "cell_type": "code",
   "execution_count": null,
   "metadata": {},
   "outputs": [],
   "source": [
    "legend = [\"train_data\"]\n",
    "plt.plot(time,list_of_drive)\n",
    "for lamb in  [0.9,0.8,0.7,0.6]:\n",
    "    Sigma = np.zeros((len(time),len(time)))\n",
    "    for i in range(len(time)):\n",
    "        Sigma[i,i] = 1/(lamb**(len(time)-i))\n",
    "    \n",
    "    beta_WLS = np.linalg.inv(time_inter.T @ np.linalg.inv(Sigma) @ time_inter) @ time_inter.T @ np.linalg.inv(Sigma) @ data\n",
    "    y_pred_WLS = x_forcast @ beta_WLS\n",
    "    plt.plot(x_values,y_pred_WLS)\n",
    "    legend.append(f\"WLS_pred_lambda {lamb}\")\n",
    "\n",
    "plt.legend(legend)\n",
    "plt.xlabel('Time (Years from 2018-01)')\n",
    "plt.ylabel('Drivmidler i alt')\n",
    "plt.savefig(\"WLS_preds_labdas.png\")\n",
    "plt.show()"
   ]
  },
  {
   "cell_type": "code",
   "execution_count": null,
   "metadata": {},
   "outputs": [],
   "source": [
    "\n",
    "plt.plot(x_values,y_pred_WLS)\n",
    "plt.plot(time,list_of_drive)\n",
    "plt.plot(x_values,y_forcast)\n",
    "plt.legend([\"WLS_pred\",\"train_data\",\"OLS_pred\"])"
   ]
  },
  {
   "cell_type": "markdown",
   "metadata": {},
   "source": [
    "# 4 Iterative update and optimal lambda"
   ]
  },
  {
   "cell_type": "markdown",
   "metadata": {},
   "source": [
    "## 4.1"
   ]
  },
  {
   "cell_type": "code",
   "execution_count": null,
   "metadata": {},
   "outputs": [],
   "source": [
    "def f(j):\n",
    "    return np.array([[1],[j]])\n",
    "\n",
    "L = np.array([[1,0],[1,1]])\n",
    "\n",
    "# Inverse of L\n",
    "Linv = inv(L)\n",
    "\n",
    "print(L)\n",
    "print(f(0))"
   ]
  },
  {
   "cell_type": "markdown",
   "metadata": {},
   "source": [
    "## 4.2"
   ]
  },
  {
   "cell_type": "code",
   "execution_count": null,
   "metadata": {},
   "outputs": [],
   "source": [
    "# lambda is in both equations, but it is powered to 0, so it becomes 1.\n",
    "F_1 = f(-0)@f(-0).T\n",
    "\n",
    "h_1 = f(-0)*data[0]\n",
    "\n",
    "print(f'F_1 =\\n {F_1}\\n')\n",
    "print(f'h_1 = \\n {h_1}\\n')\n"
   ]
  },
  {
   "cell_type": "markdown",
   "metadata": {},
   "source": [
    "## 4.3"
   ]
  },
  {
   "cell_type": "code",
   "execution_count": null,
   "metadata": {},
   "outputs": [],
   "source": [
    "# Initialize parameters\n",
    "lambda_ = 0.9"
   ]
  },
  {
   "cell_type": "code",
   "execution_count": null,
   "metadata": {},
   "outputs": [],
   "source": [
    "# Initializing F_N and h_N\n",
    "F_N = F_1\n",
    "h_N = h_1\n",
    "\n",
    "for n in range(1,10):\n",
    "    F_Np1 = F_N + lambda_**n * f(-n)@f(-n).T\n",
    "    h_Np1 = lambda_ * Linv@h_N + f(0)*data[n]\n",
    "    \n",
    "    # Update F_1 and h_1 for next iteration\n",
    "    F_N = F_Np1\n",
    "    h_N = h_Np1\n",
    "\n",
    "    print(f'F_{n+1} =\\n {F_N}\\n')\n",
    "    print(f'h_{n+1} = \\n {h_N}\\n')\n",
    "    print(\"\\n\")    "
   ]
  },
  {
   "cell_type": "markdown",
   "metadata": {},
   "source": [
    "## 4.4"
   ]
  },
  {
   "cell_type": "code",
   "execution_count": null,
   "metadata": {},
   "outputs": [],
   "source": [
    "yhat_Np1_1month  = np.zeros(49)\n",
    "yhat_Np1_6month  = np.zeros(49)\n",
    "yhat_Np1_12month = np.zeros(49)\n",
    "\n",
    "for n in range(10,59):\n",
    "    F_Np1 = F_N + lambda_**n * f(-n)@f(-n).T\n",
    "    h_Np1 = lambda_ * Linv@h_N + f(0)*data[n]\n",
    "    \n",
    "    # Theta_hat\n",
    "    thetahat_Np1 = inv(F_Np1)@h_Np1 \n",
    "    \n",
    "    # Predictions\n",
    "    yhat_Np1_1month[n-10] = (f(1).T@thetahat_Np1)[0,0]\n",
    "    yhat_Np1_6month[n-10] = (f(6).T@thetahat_Np1)[0,0]\n",
    "    yhat_Np1_12month[n-10] = (f(12).T@thetahat_Np1)[0,0]\n",
    "    \n",
    "    # Update F_1 and h_1 for next iteration\n",
    "    F_N = F_Np1\n",
    "    h_N = h_Np1"
   ]
  },
  {
   "cell_type": "markdown",
   "metadata": {},
   "source": [
    "## 4.5"
   ]
  },
  {
   "cell_type": "code",
   "execution_count": null,
   "metadata": {},
   "outputs": [],
   "source": [
    "# Plot\n",
    "plt.scatter(time[10:59],yhat_Np1_1month, s = 0.8, c = 'green', label = '1-month forecast')\n",
    "plt.scatter(time[15:59],yhat_Np1_6month[0:44], s = 0.8, c = 'orange', label = '6-month forecast')\n",
    "plt.scatter(time[21:59],yhat_Np1_12month[0:38], s = 0.8, c = 'red', label = '12-month forecast')\n",
    "plt.plot(time,data)\n",
    "plt.title('Drivmidler as a function of time')\n",
    "plt.xlabel('Time (Year)')\n",
    "plt.ylabel('Drivmidler i alt')\n",
    "plt.legend()"
   ]
  },
  {
   "cell_type": "markdown",
   "metadata": {},
   "source": [
    "## 4.6"
   ]
  },
  {
   "cell_type": "code",
   "execution_count": null,
   "metadata": {},
   "outputs": [],
   "source": [
    "# Creating np.array with lambdas\n",
    "lambdas = np.arange(0.55,0.96,0.01)\n",
    "\n",
    "# Initializing np.arrays for predicted values\n",
    "yhat_Np1_1month  = np.zeros(49)\n",
    "yhat_Np1_6month  = np.zeros(49)\n",
    "yhat_Np1_12month = np.zeros(49)\n",
    "\n",
    "# Initializing RMSE\n",
    "RMSE_1month = np.zeros(len(lambdas))\n",
    "RMSE_6month = np.zeros(len(lambdas))\n",
    "RMSE_12month = np.zeros(len(lambdas))\n",
    "\n",
    "for i in range(0,len(lambdas)):\n",
    "    # Initializing F_N and h_N\n",
    "    F_N = F_1\n",
    "    h_N = h_1\n",
    "    \n",
    "    # Update FN and hN recursively, predictions are not calculated for the first 10 steps\n",
    "    for n in range(1,10):\n",
    "        F_Np1 = F_N + lambdas[i]**n * f(-n)@f(-n).T\n",
    "        h_Np1 = lambdas[i] * Linv@h_N + f(0)*data[n]\n",
    "\n",
    "        # Update F_N and h_N for next iteration\n",
    "        F_N = F_Np1\n",
    "        h_N = h_Np1\n",
    "    \n",
    "    # Update FN and hN recursively for the rest, predictions are now calculated\n",
    "    for n in range(10,59):\n",
    "        F_Np1 = F_N + lambdas[i]**n * f(-n)@f(-n).T\n",
    "        h_Np1 = lambdas[i] * Linv@h_N + f(0)*data[n]\n",
    "\n",
    "        # Theta_hat\n",
    "        thetahat_Np1 = inv(F_Np1)@h_Np1 \n",
    "\n",
    "        # Predictions\n",
    "        yhat_Np1_1month[n-10] = (f(1).T@thetahat_Np1)[0,0]\n",
    "        yhat_Np1_6month[n-10] = (f(6).T@thetahat_Np1)[0,0]\n",
    "        yhat_Np1_12month[n-10] = (f(12).T@thetahat_Np1)[0,0]\n",
    "\n",
    "        # Update F_1 and h_1 for next iteration\n",
    "        F_N = F_Np1\n",
    "        h_N = h_Np1\n",
    "    \n",
    "    # Calculating RMSE\n",
    "    RMSE_1month[i]  = np.sqrt(np.mean((data[10:59] - yhat_Np1_1month)**2))\n",
    "    RMSE_6month[i]  = np.sqrt(np.mean((data[15:59] - yhat_Np1_6month[0:44])**2))\n",
    "    RMSE_12month[i] = np.sqrt(np.mean((data[21:59] - yhat_Np1_12month[0:38])**2))"
   ]
  },
  {
   "cell_type": "code",
   "execution_count": null,
   "metadata": {
    "scrolled": false
   },
   "outputs": [],
   "source": [
    "# Plot\n",
    "plt.scatter(lambdas,RMSE_1month, s = 0.8, c = 'green', label = '1-month forecast')\n",
    "plt.scatter(lambdas,RMSE_6month, s = 0.8, c = 'orange', label = '6-month forecast')\n",
    "plt.scatter(lambdas,RMSE_12month, s = 0.8, c = 'red', label = '12-month forecast')\n",
    "plt.title('RMSE as a function of different λ-values')\n",
    "plt.xlabel('λ')\n",
    "plt.ylabel('RMSE')\n",
    "plt.ylim(0,30000)\n",
    "plt.legend()"
   ]
  },
  {
   "cell_type": "markdown",
   "metadata": {},
   "source": [
    "## 4.7"
   ]
  },
  {
   "cell_type": "code",
   "execution_count": null,
   "metadata": {},
   "outputs": [],
   "source": [
    "p1m_opt_lambda = lambdas[np.argmin(RMSE_1month)]\n",
    "print(\"Lambda giving the lowest possible RMSE for 1 month prediction is : \" + str(p1m_opt_lambda))\n",
    "print(\"With the value:\" + str(np.min(RMSE_1month)))\n",
    "# sanity check\n",
    "\n",
    "F_N = F_1\n",
    "h_N = h_1\n",
    "\n",
    "for n in range(1,10):\n",
    "    F_Np1 = F_N + p1m_opt_lambda**n * f(-n)@f(-n).T\n",
    "    h_Np1 = p1m_opt_lambda * Linv@h_N + f(0)*data[n]\n",
    "\n",
    "    # Update F_N and h_N for next iteration\n",
    "    F_N = F_Np1\n",
    "    h_N = h_Np1\n",
    "    \n",
    "# Update FN and hN recursively for the rest, predictions are now calculated\n",
    "for n in range(10,59):\n",
    "    F_Np1 = F_N + p1m_opt_lambda**n * f(-n)@f(-n).T\n",
    "    h_Np1 = p1m_opt_lambda * Linv@h_N + f(0)*data[n]\n",
    "\n",
    "    # Theta_hat\n",
    "    thetahat_Np1 = inv(F_Np1)@h_Np1 \n",
    "\n",
    "    # Predictions\n",
    "    yhat_Np1_1month[n-10] = (f(1).T@thetahat_Np1)[0,0]\n",
    "\n",
    "    # Update F_1 and h_1 for next iteration\n",
    "    F_N = F_Np1\n",
    "    h_N = h_Np1\n",
    "    \n",
    "# Calculating RMSE\n",
    "RMSE_1month_sanity  = np.sqrt(np.mean((data[10:59] - yhat_Np1_1month)**2))\n",
    "\n",
    "print(\"sanity check: \" + str(RMSE_1month_sanity))\n"
   ]
  },
  {
   "cell_type": "markdown",
   "metadata": {},
   "source": [
    "\n",
    "## 4.8"
   ]
  },
  {
   "cell_type": "code",
   "execution_count": null,
   "metadata": {},
   "outputs": [],
   "source": [
    "p6m_opt_lambda = lambdas[np.argmin(RMSE_6month)]\n",
    "print(\"Lambda giving the lowest possible RMSE for 6 month prediction is : \" + str(p6m_opt_lambda))\n",
    "print(\"With the value:\" + str(np.min(RMSE_6month)))\n",
    "# sanity check\n",
    "\n",
    "F_N = F_1\n",
    "h_N = h_1\n",
    "\n",
    "for n in range(1,10):\n",
    "    F_Np1 = F_N + p6m_opt_lambda**n * f(-n)@f(-n).T\n",
    "    h_Np1 = p6m_opt_lambda * Linv@h_N + f(0)*data[n]\n",
    "\n",
    "    # Update F_N and h_N for next iteration\n",
    "    F_N = F_Np1\n",
    "    h_N = h_Np1\n",
    "    \n",
    "# Update FN and hN recursively for the rest, predictions are now calculated\n",
    "for n in range(10,59):\n",
    "    F_Np1 = F_N + p6m_opt_lambda**n * f(-n)@f(-n).T\n",
    "    h_Np1 = p6m_opt_lambda * Linv@h_N + f(0)*data[n]\n",
    "\n",
    "    # Theta_hat\n",
    "    thetahat_Np1 = inv(F_Np1)@h_Np1 \n",
    "\n",
    "    # Predictions\n",
    "    yhat_Np1_6month[n-10] = (f(6).T@thetahat_Np1)[0,0]\n",
    "\n",
    "    # Update F_1 and h_1 for next iteration\n",
    "    F_N = F_Np1\n",
    "    h_N = h_Np1\n",
    "    \n",
    "# Calculating RMSE\n",
    "RMSE_6month_sanity  = np.sqrt(np.mean((data[15:59] - yhat_Np1_6month[0:44])**2))\n",
    "\n",
    "print(\"sanity check: \" + str(RMSE_6month_sanity))"
   ]
  },
  {
   "cell_type": "markdown",
   "metadata": {},
   "source": [
    "## 4.9"
   ]
  },
  {
   "cell_type": "code",
   "execution_count": null,
   "metadata": {},
   "outputs": [],
   "source": [
    "p12m_opt_lambda = lambdas[np.argmin(RMSE_12month)]\n",
    "print(\"Lambda giving the lowest possible RMSE for 12 month prediction is : \" + str(p12m_opt_lambda))\n",
    "print(\"With the value:\" + str(np.min(RMSE_12month)))\n",
    "# sanity check\n",
    "\n",
    "F_N = F_1\n",
    "h_N = h_1\n",
    "\n",
    "for n in range(1,10):\n",
    "    F_Np1 = F_N + p12m_opt_lambda**n * f(-n)@f(-n).T\n",
    "    h_Np1 = p12m_opt_lambda * Linv@h_N + f(0)*data[n]\n",
    "\n",
    "    # Update F_N and h_N for next iteration\n",
    "    F_N = F_Np1\n",
    "    h_N = h_Np1\n",
    "    \n",
    "# Update FN and hN recursively for the rest, predictions are now calculated\n",
    "for n in range(10,59):\n",
    "    F_Np1 = F_N + p12m_opt_lambda**n * f(-n)@f(-n).T\n",
    "    h_Np1 = p12m_opt_lambda * Linv@h_N + f(0)*data[n]\n",
    "\n",
    "    # Theta_hat\n",
    "    thetahat_Np1 = inv(F_Np1)@h_Np1 \n",
    "\n",
    "    # Predictions\n",
    "    yhat_Np1_12month[n-10] = (f(12).T@thetahat_Np1)[0,0]\n",
    "\n",
    "    # Update F_1 and h_1 for next iteration\n",
    "    F_N = F_Np1\n",
    "    h_N = h_Np1\n",
    "    \n",
    "# Calculating RMSE\n",
    "RMSE_12month_sanity = np.sqrt(np.mean((data[21:59] - yhat_Np1_12month[0:38])**2))\n",
    "\n",
    "print(\"sanity check: \" + str(RMSE_12month_sanity))"
   ]
  },
  {
   "cell_type": "markdown",
   "metadata": {},
   "source": [
    "## 4.10"
   ]
  },
  {
   "cell_type": "code",
   "execution_count": null,
   "metadata": {},
   "outputs": [],
   "source": [
    "#computing RMSE for persistence model.\n",
    "\n",
    "RMSE_persistence = np.sqrt(np.mean((data[10:59]-data[9:58])**2))\n",
    "\n",
    "print(\"The root-minimum-square of the persistent model is: \" + str(RMSE_persistence))\n",
    "\n"
   ]
  },
  {
   "cell_type": "markdown",
   "metadata": {},
   "source": [
    "## 4.11"
   ]
  },
  {
   "cell_type": "code",
   "execution_count": null,
   "metadata": {},
   "outputs": [],
   "source": [
    "# calculate hat_Y_60,65,71_given_59\n",
    "\n",
    "# Creating np.array with lambdas\n",
    "lambdas = np.array([0.55,0.78,0.95])\n",
    "\n",
    "for i in range(0,len(lambdas)):\n",
    "    # Initializing F_N and h_N\n",
    "    F_N = F_1\n",
    "    h_N = h_1\n",
    "    \n",
    "    # Update FN and hN recursively, predictions are not calculated for the first 10 steps\n",
    "    for n in range(1,10):\n",
    "        F_Np1 = F_N + lambdas[i]**n * f(-n)@f(-n).T\n",
    "        h_Np1 = lambdas[i] * Linv@h_N + f(0)*data[n]\n",
    "\n",
    "        # Update F_N and h_N for next iteration\n",
    "        F_N = F_Np1\n",
    "        h_N = h_Np1\n",
    "    \n",
    "    # Update FN and hN recursively for the rest, predictions are now calculated\n",
    "    for n in range(10,59):\n",
    "        F_Np1 = F_N + lambdas[i]**n * f(-n)@f(-n).T\n",
    "        h_Np1 = lambdas[i] * Linv@h_N + f(0)*data[n]\n",
    "\n",
    "        # Theta_hat\n",
    "        thetahat_Np1 = inv(F_Np1)@h_Np1 \n",
    "\n",
    "        # Predictions\n",
    "\n",
    "        # Update F_1 and h_1 for next iteration\n",
    "        F_N = F_Np1\n",
    "        h_N = h_Np1\n",
    "    \n",
    "    if i == 0:\n",
    "        yhat_Np1_1month = np.array([(f(1).T@thetahat_Np1)[0,0],(f(6).T@thetahat_Np1)[0,0],(f(12).T@thetahat_Np1)[0,0]])\n",
    "    elif i == 1:\n",
    "        yhat_Np1_6month = np.array([(f(1).T@thetahat_Np1)[0,0],(f(6).T@thetahat_Np1)[0,0],(f(12).T@thetahat_Np1)[0,0]])\n",
    "    else:\n",
    "        yhat_Np1_12month = np.array([(f(1).T@thetahat_Np1)[0,0],(f(6).T@thetahat_Np1)[0,0],(f(12).T@thetahat_Np1)[0,0]])\n",
    "\n",
    "x_forcast = np.array([np.max(time)+1/12*i for i in range (1, 13)])\n",
    "x_forcast = np.vstack((np.ones(len(x_forcast)), x_forcast.T)).T\n",
    "x_values = x_forcast[:,1] \n",
    "plt.plot(time,list_of_drive)\n",
    "plt.plot(x_values,data_test)\n",
    "indices = [0, 5, 11]\n",
    "threep_x_values = x_values[indices]\n",
    "plt.scatter(threep_x_values, yhat_Np1_1month, color='red', marker='o', label='1 month predict, lambda=0.55')\n",
    "plt.scatter(threep_x_values, yhat_Np1_6month, color='blue', marker='s', label='6 month predict, lambda=0.78')\n",
    "plt.scatter(threep_x_values, yhat_Np1_12month, color='green', marker='^', label='12 month predict, lambda=0.95')\n",
    "plt.legend([\"Train data\",'Test data','lambda=0.55','lambda=0.78','lambda=0.95'])\n",
    "plt.xlabel('Time (Years from 2018-24)')\n",
    "plt.ylabel('Drivmidler i alt')\n",
    "plt.title('Prediction of drivmidler using iterative updates')\n",
    "plt.savefig('E4_11.png')\n",
    "\n"
   ]
  }
 ],
 "metadata": {
  "interpreter": {
   "hash": "31f2aee4e71d21fbe5cf8b01ff0e069b9275f58929596ceb00d14d90e3e16cd6"
  },
  "kernelspec": {
   "display_name": "Python 3.10.12 64-bit",
   "language": "python",
   "name": "python3"
  },
  "language_info": {
   "codemirror_mode": {
    "name": "ipython",
    "version": 3
   },
   "file_extension": ".py",
   "mimetype": "text/x-python",
   "name": "python",
   "nbconvert_exporter": "python",
   "pygments_lexer": "ipython3",
   "version": "3.9.18"
  }
 },
 "nbformat": 4,
 "nbformat_minor": 2
}
